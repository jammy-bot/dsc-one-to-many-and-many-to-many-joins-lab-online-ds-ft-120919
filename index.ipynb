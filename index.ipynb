{
 "cells": [
  {
   "cell_type": "markdown",
   "metadata": {},
   "source": [
    "# One-to-Many and Many-to-Many Joins - Lab"
   ]
  },
  {
   "cell_type": "markdown",
   "metadata": {},
   "source": [
    "## Introduction"
   ]
  },
  {
   "cell_type": "markdown",
   "metadata": {},
   "source": [
    "In this lab, you'll practice your knowledge of one-to-many and many-to-many relationships!"
   ]
  },
  {
   "cell_type": "markdown",
   "metadata": {},
   "source": [
    "## Objectives"
   ]
  },
  {
   "cell_type": "markdown",
   "metadata": {},
   "source": [
    "You will be able to:\n",
    "* Explain one-to-many and many-to-many joins as well as implications for the size of query results\n",
    "* Query data using one-to-many and many-to-many joins"
   ]
  },
  {
   "cell_type": "markdown",
   "metadata": {},
   "source": [
    "## One-to-Many and Many-to-Many Joins\n",
    "<img src='images/Database-Schema.png' width=\"600\">"
   ]
  },
  {
   "cell_type": "markdown",
   "metadata": {},
   "source": [
    "## Connect to the Database"
   ]
  },
  {
   "cell_type": "code",
   "execution_count": 1,
   "metadata": {},
   "outputs": [],
   "source": [
    "#Your code here\n",
    "import pandas as pd\n",
    "import sqlite3\n",
    "conn =  sqlite3.connect('data.sqlite')\n",
    "cur = conn.cursor()"
   ]
  },
  {
   "cell_type": "markdown",
   "metadata": {},
   "source": [
    "## Employees and their Office (a One-to-One join)\n",
    "\n",
    "Return a dataframe with all of the employees including their first name and last name along with the city and state of the office that they work out of (if they have one). Include all employees and order them by their first name, then their last name."
   ]
  },
  {
   "cell_type": "code",
   "execution_count": 2,
   "metadata": {},
   "outputs": [
    {
     "name": "stdout",
     "output_type": "stream",
     "text": [
      "Total number of records: 23\n",
      "\n",
      "  firstName lastName           city state\n",
      "0      Andy   Fixter         Sydney      \n",
      "1   Anthony      Bow  San Francisco    CA\n",
      "2     Barry    Jones         London      \n",
      "3     Diane   Murphy  San Francisco    CA\n",
      "4  Foon Yue    Tseng            NYC    NY\n"
     ]
    }
   ],
   "source": [
    "#Your code here\n",
    "cur.execute(\"\"\"SELECT e.firstName, e.lastName, of.city, of.state\n",
    "               FROM employees as e\n",
    "               LEFT JOIN offices as of\n",
    "               USING(officeCode)\n",
    "               ORDER BY e.firstname, e.lastName;\"\"\")\n",
    "\n",
    "df=pd.DataFrame(cur.fetchall())\n",
    "df.columns = [i[0] for i in cur.description]\n",
    "print(f\"Total number of records: {len(df)}\\n\")\n",
    "print(df.head())"
   ]
  },
  {
   "cell_type": "markdown",
   "metadata": {},
   "source": [
    "## Customers and their Orders (a One-to-Many join)\n",
    "\n",
    "Return a dataframe with all of the customers' first and last names along with details for each of their order numbers, order dates, and statuses."
   ]
  },
  {
   "cell_type": "code",
   "execution_count": 3,
   "metadata": {},
   "outputs": [
    {
     "name": "stdout",
     "output_type": "stream",
     "text": [
      "Total number of records: 326\n",
      "\n",
      "  contactFirstName contactLastName orderNumber   orderDate      status\n",
      "0           Adrian          Huxley       10139  2003-07-16     Shipped\n",
      "1           Adrian          Huxley       10270  2004-07-19     Shipped\n",
      "2           Adrian          Huxley       10361  2004-12-17     Shipped\n",
      "3           Adrian          Huxley       10420  2005-05-29  In Process\n",
      "4            Akiko       Shimamura       10258  2004-06-15     Shipped\n"
     ]
    }
   ],
   "source": [
    "# Your code here\n",
    "cur.execute(\"\"\"SELECT c.contactFirstName, c.contactLastName, o.orderNumber, o.orderDate, o.status\n",
    "               FROM customers as c\n",
    "               JOIN orders as o\n",
    "               USING(customerNumber)\n",
    "               ORDER BY c.contactFirstName, c.contactLastName;\"\"\")\n",
    "\n",
    "df=pd.DataFrame(cur.fetchall())\n",
    "df.columns = [i[0] for i in cur.description]\n",
    "print(f\"Total number of records: {len(df)}\\n\")\n",
    "print(df.head())"
   ]
  },
  {
   "cell_type": "markdown",
   "metadata": {},
   "source": [
    "## Customers and their Payments (another One-to-Many join)\n",
    "\n",
    "Return a dataframe with all of the customers' first and last names along with details about their payments' amount and date of payment. Sort these results in descending order by the payment amount."
   ]
  },
  {
   "cell_type": "code",
   "execution_count": 4,
   "metadata": {},
   "outputs": [
    {
     "name": "stdout",
     "output_type": "stream",
     "text": [
      "Total number of records: 273\n",
      "\n",
      "  contactFirstName contactLastName   amount paymentDate\n",
      "0          Violeta         Benitez  9977.85  2003-11-08\n",
      "1              Ben        Calaghan  9821.32  2003-10-17\n",
      "2           Leslie          Taylor  9658.74  2004-12-06\n",
      "3             Sean        Clenahan  9415.13  2004-07-28\n",
      "4          Roland           Mendel  8807.12  2005-05-03\n"
     ]
    }
   ],
   "source": [
    "# Your code here\n",
    "cur.execute(\"\"\"SELECT contactFirstName, contactLastName, amount, paymentDate\n",
    "               FROM customers as c\n",
    "               JOIN payments as pym\n",
    "               USING(customerNumber)\n",
    "               ORDER BY pym.amount DESC;\"\"\")\n",
    "\n",
    "df=pd.DataFrame(cur.fetchall())\n",
    "df.columns = [i[0] for i in cur.description]\n",
    "print(f\"Total number of records: {len(df)}\\n\")\n",
    "print(df.head())"
   ]
  },
  {
   "cell_type": "markdown",
   "metadata": {},
   "source": [
    "## Orders, Order details and Product Details (a Many-to-Many Join)"
   ]
  },
  {
   "cell_type": "markdown",
   "metadata": {},
   "source": [
    "Return a dataframe with all of the customers' first and last names along with the product names, quantities, and date ordered for each of the customers and each of their orders. Sort these in descending order by the order date.\n",
    "\n",
    "- Note: This will require joining 4 tables! This can be tricky! Give it a shot, and if you're still stuck, turn to the next section where you'll see how to write subqueries that can make complex queries such as this much simpler!"
   ]
  },
  {
   "cell_type": "code",
   "execution_count": 5,
   "metadata": {},
   "outputs": [
    {
     "name": "stdout",
     "output_type": "stream",
     "text": [
      "Total number of records: 2996\n",
      "\n",
      "  contactFirstName contactLastName                     productName  \\\n",
      "0          Janine          Labrune          1962 LanciaA Delta 16V   \n",
      "1          Janine          Labrune               1957 Chevy Pickup   \n",
      "2          Janine          Labrune  1998 Chrysler Plymouth Prowler   \n",
      "3          Janine          Labrune          1964 Mercedes Tour Bus   \n",
      "4          Janine          Labrune           1926 Ford Fire Engine   \n",
      "\n",
      "  quantityOrdered   orderDate  \n",
      "0              38  2005-05-31  \n",
      "1              33  2005-05-31  \n",
      "2              28  2005-05-31  \n",
      "3              38  2005-05-31  \n",
      "4              19  2005-05-31  \n"
     ]
    }
   ],
   "source": [
    "# Your code here\n",
    "cur.execute(\"\"\"SELECT c.contactFirstName, c.contactLastName, p.productName, od.quantityOrdered, o.orderDate\n",
    "               FROM customers as c\n",
    "               JOIN orders as o\n",
    "               USING(customerNumber)\n",
    "               JOIN orderDetails as od\n",
    "               USING(orderNumber)\n",
    "               JOIN products as p\n",
    "               USING(productCode)\n",
    "               ORDER BY o.orderDate DESC;\"\"\")\n",
    "\n",
    "df=pd.DataFrame(cur.fetchall())\n",
    "df.columns = [i[0] for i in cur.description]\n",
    "print(f\"Total number of records: {len(df)}\\n\")\n",
    "print(df.head())"
   ]
  },
  {
   "cell_type": "markdown",
   "metadata": {},
   "source": [
    "## Summary"
   ]
  },
  {
   "cell_type": "markdown",
   "metadata": {},
   "source": [
    "In this lab, you practiced your knowledge of one-to-many and many-to-many relationships!"
   ]
  }
 ],
 "metadata": {
  "kernelspec": {
   "display_name": "Python [conda env:learn-env] *",
   "language": "python",
   "name": "conda-env-learn-env-py"
  },
  "language_info": {
   "codemirror_mode": {
    "name": "ipython",
    "version": 3
   },
   "file_extension": ".py",
   "mimetype": "text/x-python",
   "name": "python",
   "nbconvert_exporter": "python",
   "pygments_lexer": "ipython3",
   "version": "3.6.9"
  },
  "toc": {
   "base_numbering": 1,
   "nav_menu": {},
   "number_sections": true,
   "sideBar": true,
   "skip_h1_title": false,
   "title_cell": "Table of Contents",
   "title_sidebar": "Contents",
   "toc_cell": false,
   "toc_position": {},
   "toc_section_display": true,
   "toc_window_display": false
  }
 },
 "nbformat": 4,
 "nbformat_minor": 2
}
